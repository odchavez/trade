{
 "cells": [
  {
   "cell_type": "code",
   "execution_count": 1,
   "metadata": {},
   "outputs": [],
   "source": [
    "from trade import options as op\n",
    "from trade import spreads as sp\n"
   ]
  },
  {
   "cell_type": "code",
   "execution_count": 2,
   "metadata": {},
   "outputs": [],
   "source": [
    "test_ticker = 'ABT'\n",
    "opt_obj = op.Options(test_ticker)"
   ]
  },
  {
   "cell_type": "markdown",
   "metadata": {},
   "source": [
    "#### Testing Options"
   ]
  },
  {
   "cell_type": "code",
   "execution_count": 3,
   "metadata": {},
   "outputs": [],
   "source": [
    "options = opt_obj.get_option_chains_within_45_days()"
   ]
  },
  {
   "cell_type": "code",
   "execution_count": 4,
   "metadata": {},
   "outputs": [
    {
     "data": {
      "text/plain": [
       "['2024-09-06',\n",
       " '2024-09-13',\n",
       " '2024-09-20',\n",
       " '2024-09-27',\n",
       " '2024-10-04',\n",
       " '2024-10-11']"
      ]
     },
     "execution_count": 4,
     "metadata": {},
     "output_type": "execute_result"
    }
   ],
   "source": [
    "list(options.keys())\n",
    "#options['2024-09-06'].calls.head()\n",
    "#options['2024-09-06'].puts.head()"
   ]
  },
  {
   "cell_type": "markdown",
   "metadata": {},
   "source": [
    "#### Testing Spreads"
   ]
  },
  {
   "cell_type": "code",
   "execution_count": 7,
   "metadata": {},
   "outputs": [],
   "source": [
    "otmps_obj = sp.OTMPutSpreads(ticker=test_ticker, credit_risk_margin=.05)"
   ]
  },
  {
   "cell_type": "code",
   "execution_count": 6,
   "metadata": {},
   "outputs": [
    {
     "data": {
      "text/html": [
       "<div>\n",
       "<style scoped>\n",
       "    .dataframe tbody tr th:only-of-type {\n",
       "        vertical-align: middle;\n",
       "    }\n",
       "\n",
       "    .dataframe tbody tr th {\n",
       "        vertical-align: top;\n",
       "    }\n",
       "\n",
       "    .dataframe thead th {\n",
       "        text-align: right;\n",
       "    }\n",
       "</style>\n",
       "<table border=\"1\" class=\"dataframe\">\n",
       "  <thead>\n",
       "    <tr style=\"text-align: right;\">\n",
       "      <th></th>\n",
       "      <th>ticker</th>\n",
       "      <th>short_strike</th>\n",
       "      <th>long_strike</th>\n",
       "      <th>credit</th>\n",
       "      <th>risk</th>\n",
       "      <th>c/r</th>\n",
       "      <th>ITM_return</th>\n",
       "      <th>short_bid</th>\n",
       "      <th>short_ask</th>\n",
       "      <th>short_price</th>\n",
       "      <th>long_bid</th>\n",
       "      <th>long_ask</th>\n",
       "      <th>long_price</th>\n",
       "      <th>last_price</th>\n",
       "      <th>expected_return</th>\n",
       "    </tr>\n",
       "  </thead>\n",
       "  <tbody>\n",
       "    <tr>\n",
       "      <th>0</th>\n",
       "      <td>ABT</td>\n",
       "      <td>111.0</td>\n",
       "      <td>98.0</td>\n",
       "      <td>1.220</td>\n",
       "      <td>11.780</td>\n",
       "      <td>0.103565</td>\n",
       "      <td>-0.020905</td>\n",
       "      <td>1.11</td>\n",
       "      <td>1.95</td>\n",
       "      <td>1.530</td>\n",
       "      <td>0.04</td>\n",
       "      <td>0.58</td>\n",
       "      <td>0.31</td>\n",
       "      <td>113.37</td>\n",
       "      <td></td>\n",
       "    </tr>\n",
       "    <tr>\n",
       "      <th>1</th>\n",
       "      <td>ABT</td>\n",
       "      <td>113.0</td>\n",
       "      <td>98.0</td>\n",
       "      <td>1.625</td>\n",
       "      <td>13.375</td>\n",
       "      <td>0.121495</td>\n",
       "      <td>-0.003264</td>\n",
       "      <td>1.72</td>\n",
       "      <td>2.15</td>\n",
       "      <td>1.935</td>\n",
       "      <td>0.04</td>\n",
       "      <td>0.58</td>\n",
       "      <td>0.31</td>\n",
       "      <td>113.37</td>\n",
       "      <td></td>\n",
       "    </tr>\n",
       "  </tbody>\n",
       "</table>\n",
       "</div>"
      ],
      "text/plain": [
       "  ticker  short_strike  long_strike  credit    risk       c/r  ITM_return  \\\n",
       "0    ABT         111.0         98.0   1.220  11.780  0.103565   -0.020905   \n",
       "1    ABT         113.0         98.0   1.625  13.375  0.121495   -0.003264   \n",
       "\n",
       "   short_bid  short_ask  short_price  long_bid  long_ask  long_price  \\\n",
       "0       1.11       1.95        1.530      0.04      0.58        0.31   \n",
       "1       1.72       2.15        1.935      0.04      0.58        0.31   \n",
       "\n",
       "   last_price expected_return  \n",
       "0      113.37                  \n",
       "1      113.37                  "
      ]
     },
     "execution_count": 6,
     "metadata": {},
     "output_type": "execute_result"
    }
   ],
   "source": [
    "otmps_obj.find_put_spread(puts_f=options[list(options.keys())[4]].puts, last_f=113.37)"
   ]
  },
  {
   "cell_type": "code",
   "execution_count": null,
   "metadata": {},
   "outputs": [],
   "source": []
  }
 ],
 "metadata": {
  "kernelspec": {
   "display_name": "base",
   "language": "python",
   "name": "python3"
  },
  "language_info": {
   "codemirror_mode": {
    "name": "ipython",
    "version": 3
   },
   "file_extension": ".py",
   "mimetype": "text/x-python",
   "name": "python",
   "nbconvert_exporter": "python",
   "pygments_lexer": "ipython3",
   "version": "3.11.7"
  }
 },
 "nbformat": 4,
 "nbformat_minor": 2
}
