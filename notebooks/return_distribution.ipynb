{
 "cells": [
  {
   "cell_type": "code",
   "execution_count": 3,
   "metadata": {},
   "outputs": [
    {
     "name": "stderr",
     "output_type": "stream",
     "text": [
      "[*********************100%%**********************]  1 of 1 completed\n"
     ]
    },
    {
     "data": {
      "image/png": "[encoded data removed]",
      "text/plain": [
       "<Figure size 1000x600 with 1 Axes>"
      ]
     },
     "metadata": {},
     "output_type": "display_data"
    }
   ],
   "source": [
    "import yfinance as yf\n",
    "import pandas as pd\n",
    "import numpy as np\n",
    "import matplotlib.pyplot as plt\n",
    "\n",
    "def get_historical_returns(ticker, interval=5):\n",
    "    # Fetch historical data for the stock ticker\n",
    "    stock_data = yf.download(ticker, start=\"2000-01-01\", end=\"2024-12-31\")\n",
    "    \n",
    "    # Calculate the percentage change for each day\n",
    "    stock_data['Return'] = stock_data['Adj Close'].pct_change()\n",
    "    \n",
    "    # Calculate returns over X-day intervals\n",
    "    stock_data[f'{interval}-Day Return'] = stock_data['Adj Close'].pct_change(periods=interval)\n",
    "    \n",
    "    # Drop NaN values that arise from pct_change()\n",
    "    stock_data.dropna(inplace=True)\n",
    "    \n",
    "    return stock_data\n",
    "\n",
    "def plot_return_distribution(stock_data, interval=5):\n",
    "    # Plot the histogram of X-day returns\n",
    "    plt.figure(figsize=(10, 6))\n",
    "    stock_data[f'{interval}-Day Return'].hist(bins=50, alpha=0.75, color='blue')\n",
    "    plt.title(f'Historical Distribution of {interval}-Day Returns for {ticker}')\n",
    "    plt.xlabel('Return')\n",
    "    plt.ylabel('Frequency')\n",
    "    plt.grid(True)\n",
    "    plt.show()\n",
    "\n",
    "# Example Usage\n",
    "ticker = 'ABT'  # Replace with any stock ticker\n",
    "interval = 45  # X-day interval\n",
    "stock_data = get_historical_returns(ticker, interval)\n",
    "plot_return_distribution(stock_data, interval)\n"
   ]
  },
  {
   "cell_type": "code",
   "execution_count": 5,
   "metadata": {},
   "outputs": [
    {
     "name": "stderr",
     "output_type": "stream",
     "text": [
      "[*********************100%%**********************]  1 of 1 completed"
     ]
    },
    {
     "name": "stdout",
     "output_type": "stream",
     "text": [
      "The probability that the 45-day return is less than -0.1 is 0.1382\n"
     ]
    },
    {
     "name": "stderr",
     "output_type": "stream",
     "text": [
      "\n"
     ]
    }
   ],
   "source": [
    "import yfinance as yf\n",
    "import pandas as pd\n",
    "import numpy as np\n",
    "import matplotlib.pyplot as plt\n",
    "\n",
    "def get_historical_returns(ticker, interval=5):\n",
    "    # Fetch historical data for the stock ticker\n",
    "    stock_data = yf.download(ticker, start=\"2000-01-01\", end=\"2024-12-31\")\n",
    "    \n",
    "    # Calculate the percentage change for each day\n",
    "    stock_data['Return'] = stock_data['Adj Close'].pct_change()\n",
    "    \n",
    "    # Calculate returns over X-day intervals\n",
    "    stock_data[f'{interval}-Day Return'] = stock_data['Adj Close'].pct_change(periods=interval)\n",
    "    \n",
    "    # Drop NaN values that arise from pct_change()\n",
    "    stock_data.dropna(inplace=True)\n",
    "    \n",
    "    return stock_data\n",
    "\n",
    "def calculate_probability(stock_data, interval, d):\n",
    "    # Get X-day returns\n",
    "    returns = stock_data[f'{interval}-Day Return']\n",
    "    \n",
    "    # Calculate the probability of return being less than d\n",
    "    prob = np.mean(returns < d)\n",
    "    \n",
    "    return prob\n",
    "\n",
    "# Example Usage\n",
    "ticker = 'AAPL'  # Replace with any stock ticker\n",
    "interval = 45  # X-day interval\n",
    "d = -0.1  # Replace with the return threshold you're interested in (e.g., 1%)\n",
    "\n",
    "stock_data = get_historical_returns(ticker, interval)\n",
    "probability = calculate_probability(stock_data, interval, d)\n",
    "\n",
    "print(f\"The probability that the {interval}-day return is less than {d} is {probability:.4f}\")\n"
   ]
  },
  {
   "cell_type": "code",
   "execution_count": 9,
   "metadata": {},
   "outputs": [
    {
     "data": {
      "text/plain": [
       "0.1381664499349805"
      ]
     },
     "execution_count": 9,
     "metadata": {},
     "output_type": "execute_result"
    }
   ],
   "source": [
    "sum(stock_data['45-Day Return']<-0.1)/len(stock_data['45-Day Return'])"
   ]
  },
  {
   "cell_type": "code",
   "execution_count": 6,
   "metadata": {},
   "outputs": [
    {
     "name": "stderr",
     "output_type": "stream",
     "text": [
      "[*********************100%%**********************]  1 of 1 completed"
     ]
    },
    {
     "name": "stdout",
     "output_type": "stream",
     "text": [
      "The probability that the 45-day return is less than -10.00% is approximately 13.82%\n"
     ]
    },
    {
     "name": "stderr",
     "output_type": "stream",
     "text": [
      "\n"
     ]
    }
   ],
   "source": [
    "import yfinance as yf\n",
    "import pandas as pd\n",
    "import numpy as np\n",
    "import matplotlib.pyplot as plt\n",
    "from scipy.stats import norm\n",
    "\n",
    "def get_historical_returns(ticker, interval=5):\n",
    "    # Fetch historical data for the stock ticker\n",
    "    stock_data = yf.download(ticker, start=\"2000-01-01\", end=\"2024-12-31\")\n",
    "    \n",
    "    # Calculate returns over X-day intervals\n",
    "    stock_data[f'{interval}-Day Return'] = stock_data['Adj Close'].pct_change(periods=interval)\n",
    "    \n",
    "    # Drop NaN values that arise from pct_change()\n",
    "    stock_data.dropna(inplace=True)\n",
    "    \n",
    "    return stock_data[f'{interval}-Day Return']\n",
    "\n",
    "def calculate_probability_less_than_d(returns, d):\n",
    "    # Calculate the empirical CDF for the returns\n",
    "    sorted_returns = np.sort(returns)\n",
    "    cdf_values = np.arange(1, len(sorted_returns) + 1) / len(sorted_returns)\n",
    "    \n",
    "    # Find the index where the return is just less than or equal to d\n",
    "    index = np.searchsorted(sorted_returns, d, side='right') - 1\n",
    "    \n",
    "    # Calculate the probability\n",
    "    if index < 0:\n",
    "        probability = 0.0\n",
    "    else:\n",
    "        probability = cdf_values[index]\n",
    "    \n",
    "    return probability\n",
    "\n",
    "# Example Usage\n",
    "ticker = 'AAPL'  # Replace with any stock ticker\n",
    "interval = 45  # X-day interval\n",
    "d = -0.1  # The return value to check against\n",
    "\n",
    "# Get historical returns\n",
    "historical_returns = get_historical_returns(ticker, interval)\n",
    "\n",
    "# Calculate the probability that the return is less than d\n",
    "probability = calculate_probability_less_than_d(historical_returns, d)\n",
    "\n",
    "print(f\"The probability that the {interval}-day return is less than {d:.2%} is approximately {probability:.2%}\")\n"
   ]
  },
  {
   "cell_type": "code",
   "execution_count": null,
   "metadata": {},
   "outputs": [],
   "source": []
  }
 ],
 "metadata": {
  "kernelspec": {
   "display_name": "base",
   "language": "python",
   "name": "python3"
  },
  "language_info": {
   "codemirror_mode": {
    "name": "ipython",
    "version": 3
   },
   "file_extension": ".py",
   "mimetype": "text/x-python",
   "name": "python",
   "nbconvert_exporter": "python",
   "pygments_lexer": "ipython3",
   "version": "3.11.7"
  }
 },
 "nbformat": 4,
 "nbformat_minor": 2
}
