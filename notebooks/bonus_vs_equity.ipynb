{
 "cells": [
  {
   "cell_type": "code",
   "execution_count": null,
   "id": "e097f556",
   "metadata": {},
   "outputs": [],
   "source": [
    "import numpy as np\n",
    "import pandas as pd\n",
    "\n",
    "# Adjusted ownership based on $18k payout at $40M exit\n",
    "ownership_adjusted = 18000 / 40_000_000  # 0.045%\n",
    "\n",
    "# Define exit scenarios with average years to exit\n",
    "exit_scenarios = [\n",
    "    {\"label\": \"Failure\", \"valuation\": 0, \"probability\": 0.70, \"years\": 4},\n",
    "    {\"label\": \"Small Acquisition\", \"valuation\": 10_000_000, \"probability\": 0.10, \"years\": 5},\n",
    "    {\"label\": \"Moderate Success\", \"valuation\": 75_000_000, \"probability\": 0.10, \"years\": 6},\n",
    "    {\"label\": \"High Success\", \"valuation\": 400_000_000, \"probability\": 0.05, \"years\": 7},\n",
    "    {\"label\": \"Unicorn Exit\", \"valuation\": 1_000_000_000, \"probability\": 0.05, \"years\": 8}\n",
    "]\n",
    "\n",
    "# Function to compute future value of a bonus stream\n",
    "def future_value_annuity(pmt, rate, n):\n",
    "    return pmt * (((1 + rate)**n - 1) / rate)\n",
    "\n",
    "# Create base DataFrame\n",
    "df = pd.DataFrame(exit_scenarios)\n",
    "df[\"Your Payout\"] = df[\"valuation\"] * ownership_adjusted\n",
    "df[\"Expected Value\"] = df[\"Your Payout\"] * df[\"probability\"]\n",
    "\n",
    "# Compute market investment values for 10k, 20k, 30k, 45k bonuses\n",
    "for bonus in [10_000, 20_000, 30_000, 45_000]:\n",
    "    col_inv = f\"Market Investment ({bonus//1000}k/year)\"\n",
    "    col_diff = f\"Difference (Equity - Market @{bonus//1000}k)\"\n",
    "    df[col_inv] = df[\"years\"].apply(lambda y: future_value_annuity(bonus, 0.07, y))\n",
    "    df[col_diff] = df[\"Your Payout\"] - df[col_inv]\n",
    "\n",
    "# Add probability-weighted difference for 10k bonus as an example\n",
    "df[\"Probability-Weighted Difference\"] = df[\"probability\"] * df[\"Difference (Equity - Market @10k)\"]\n",
    "\n",
    "# Optional: round values for clean display\n",
    "df = df.round(0)\n",
    "\n",
    "# Display the final DataFrame\n",
    "import ace_tools as tools; tools.display_dataframe_to_user(name=\"Cleaned Exit vs Market Bonus Comparison\", dataframe=df)\n"
   ]
  }
 ],
 "metadata": {
  "language_info": {
   "name": "python"
  }
 },
 "nbformat": 4,
 "nbformat_minor": 5
}
