{
 "cells": [
  {
   "cell_type": "code",
   "execution_count": 9,
   "metadata": {},
   "outputs": [
    {
     "ename": "KeyError",
     "evalue": "'Earnings Date'",
     "output_type": "error",
     "traceback": [
      "\u001b[0;31m---------------------------------------------------------------------------\u001b[0m",
      "\u001b[0;31mKeyError\u001b[0m                                  Traceback (most recent call last)",
      "File \u001b[0;32m/opt/anaconda3/lib/python3.12/site-packages/pandas/core/indexes/base.py:3805\u001b[0m, in \u001b[0;36mIndex.get_loc\u001b[0;34m(self, key)\u001b[0m\n\u001b[1;32m   3804\u001b[0m \u001b[38;5;28;01mtry\u001b[39;00m:\n\u001b[0;32m-> 3805\u001b[0m     \u001b[38;5;28;01mreturn\u001b[39;00m \u001b[38;5;28mself\u001b[39m\u001b[38;5;241m.\u001b[39m_engine\u001b[38;5;241m.\u001b[39mget_loc(casted_key)\n\u001b[1;32m   3806\u001b[0m \u001b[38;5;28;01mexcept\u001b[39;00m \u001b[38;5;167;01mKeyError\u001b[39;00m \u001b[38;5;28;01mas\u001b[39;00m err:\n",
      "File \u001b[0;32mindex.pyx:167\u001b[0m, in \u001b[0;36mpandas._libs.index.IndexEngine.get_loc\u001b[0;34m()\u001b[0m\n",
      "File \u001b[0;32mindex.pyx:196\u001b[0m, in \u001b[0;36mpandas._libs.index.IndexEngine.get_loc\u001b[0;34m()\u001b[0m\n",
      "File \u001b[0;32mpandas/_libs/hashtable_class_helper.pxi:7081\u001b[0m, in \u001b[0;36mpandas._libs.hashtable.PyObjectHashTable.get_item\u001b[0;34m()\u001b[0m\n",
      "File \u001b[0;32mpandas/_libs/hashtable_class_helper.pxi:7089\u001b[0m, in \u001b[0;36mpandas._libs.hashtable.PyObjectHashTable.get_item\u001b[0;34m()\u001b[0m\n",
      "\u001b[0;31mKeyError\u001b[0m: 'Earnings Date'",
      "\nThe above exception was the direct cause of the following exception:\n",
      "\u001b[0;31mKeyError\u001b[0m                                  Traceback (most recent call last)",
      "Cell \u001b[0;32mIn[9], line 6\u001b[0m\n\u001b[1;32m      4\u001b[0m \u001b[38;5;66;03m# Fetching earnings dates for a specific company (e.g., Apple)\u001b[39;00m\n\u001b[1;32m      5\u001b[0m ticker \u001b[38;5;241m=\u001b[39m yf\u001b[38;5;241m.\u001b[39mTicker(\u001b[38;5;124m\"\u001b[39m\u001b[38;5;124mAAPL\u001b[39m\u001b[38;5;124m\"\u001b[39m)\n\u001b[0;32m----> 6\u001b[0m earnings \u001b[38;5;241m=\u001b[39m ticker\u001b[38;5;241m.\u001b[39mearnings_dates\n\u001b[1;32m      7\u001b[0m \u001b[38;5;28mprint\u001b[39m(earnings)\n",
      "File \u001b[0;32m/opt/anaconda3/lib/python3.12/site-packages/yfinance/ticker.py:295\u001b[0m, in \u001b[0;36mTicker.earnings_dates\u001b[0;34m(self)\u001b[0m\n\u001b[1;32m    293\u001b[0m \u001b[38;5;129m@property\u001b[39m\n\u001b[1;32m    294\u001b[0m \u001b[38;5;28;01mdef\u001b[39;00m \u001b[38;5;21mearnings_dates\u001b[39m(\u001b[38;5;28mself\u001b[39m) \u001b[38;5;241m-\u001b[39m\u001b[38;5;241m>\u001b[39m _pd\u001b[38;5;241m.\u001b[39mDataFrame:\n\u001b[0;32m--> 295\u001b[0m     \u001b[38;5;28;01mreturn\u001b[39;00m \u001b[38;5;28mself\u001b[39m\u001b[38;5;241m.\u001b[39mget_earnings_dates()\n",
      "File \u001b[0;32m/opt/anaconda3/lib/python3.12/site-packages/yfinance/utils.py:104\u001b[0m, in \u001b[0;36mlog_indent_decorator.<locals>.wrapper\u001b[0;34m(*args, **kwargs)\u001b[0m\n\u001b[1;32m    101\u001b[0m logger\u001b[38;5;241m.\u001b[39mdebug(\u001b[38;5;124mf\u001b[39m\u001b[38;5;124m'\u001b[39m\u001b[38;5;124mEntering \u001b[39m\u001b[38;5;132;01m{\u001b[39;00mfunc\u001b[38;5;241m.\u001b[39m\u001b[38;5;18m__name__\u001b[39m\u001b[38;5;132;01m}\u001b[39;00m\u001b[38;5;124m()\u001b[39m\u001b[38;5;124m'\u001b[39m)\n\u001b[1;32m    103\u001b[0m \u001b[38;5;28;01mwith\u001b[39;00m IndentationContext():\n\u001b[0;32m--> 104\u001b[0m     result \u001b[38;5;241m=\u001b[39m func(\u001b[38;5;241m*\u001b[39margs, \u001b[38;5;241m*\u001b[39m\u001b[38;5;241m*\u001b[39mkwargs)\n\u001b[1;32m    106\u001b[0m logger\u001b[38;5;241m.\u001b[39mdebug(\u001b[38;5;124mf\u001b[39m\u001b[38;5;124m'\u001b[39m\u001b[38;5;124mExiting \u001b[39m\u001b[38;5;132;01m{\u001b[39;00mfunc\u001b[38;5;241m.\u001b[39m\u001b[38;5;18m__name__\u001b[39m\u001b[38;5;132;01m}\u001b[39;00m\u001b[38;5;124m()\u001b[39m\u001b[38;5;124m'\u001b[39m)\n\u001b[1;32m    107\u001b[0m \u001b[38;5;28;01mreturn\u001b[39;00m result\n",
      "File \u001b[0;32m/opt/anaconda3/lib/python3.12/site-packages/yfinance/base.py:629\u001b[0m, in \u001b[0;36mTickerBase.get_earnings_dates\u001b[0;34m(self, limit, proxy)\u001b[0m\n\u001b[1;32m    627\u001b[0m cn \u001b[38;5;241m=\u001b[39m \u001b[38;5;124m\"\u001b[39m\u001b[38;5;124mEarnings Date\u001b[39m\u001b[38;5;124m\"\u001b[39m\n\u001b[1;32m    628\u001b[0m \u001b[38;5;66;03m# - remove AM/PM and timezone from date string\u001b[39;00m\n\u001b[0;32m--> 629\u001b[0m tzinfo \u001b[38;5;241m=\u001b[39m dates[cn]\u001b[38;5;241m.\u001b[39mstr\u001b[38;5;241m.\u001b[39mextract(\u001b[38;5;124m'\u001b[39m\u001b[38;5;124m([AP]M[a-zA-Z]*)$\u001b[39m\u001b[38;5;124m'\u001b[39m)\n\u001b[1;32m    630\u001b[0m dates[cn] \u001b[38;5;241m=\u001b[39m dates[cn]\u001b[38;5;241m.\u001b[39mreplace(\u001b[38;5;124m'\u001b[39m\u001b[38;5;124m [AP]M[a-zA-Z]*$\u001b[39m\u001b[38;5;124m'\u001b[39m, \u001b[38;5;124m'\u001b[39m\u001b[38;5;124m'\u001b[39m, regex\u001b[38;5;241m=\u001b[39m\u001b[38;5;28;01mTrue\u001b[39;00m)\n\u001b[1;32m    631\u001b[0m \u001b[38;5;66;03m# - split AM/PM from timezone\u001b[39;00m\n",
      "File \u001b[0;32m/opt/anaconda3/lib/python3.12/site-packages/pandas/core/frame.py:4102\u001b[0m, in \u001b[0;36mDataFrame.__getitem__\u001b[0;34m(self, key)\u001b[0m\n\u001b[1;32m   4100\u001b[0m \u001b[38;5;28;01mif\u001b[39;00m \u001b[38;5;28mself\u001b[39m\u001b[38;5;241m.\u001b[39mcolumns\u001b[38;5;241m.\u001b[39mnlevels \u001b[38;5;241m>\u001b[39m \u001b[38;5;241m1\u001b[39m:\n\u001b[1;32m   4101\u001b[0m     \u001b[38;5;28;01mreturn\u001b[39;00m \u001b[38;5;28mself\u001b[39m\u001b[38;5;241m.\u001b[39m_getitem_multilevel(key)\n\u001b[0;32m-> 4102\u001b[0m indexer \u001b[38;5;241m=\u001b[39m \u001b[38;5;28mself\u001b[39m\u001b[38;5;241m.\u001b[39mcolumns\u001b[38;5;241m.\u001b[39mget_loc(key)\n\u001b[1;32m   4103\u001b[0m \u001b[38;5;28;01mif\u001b[39;00m is_integer(indexer):\n\u001b[1;32m   4104\u001b[0m     indexer \u001b[38;5;241m=\u001b[39m [indexer]\n",
      "File \u001b[0;32m/opt/anaconda3/lib/python3.12/site-packages/pandas/core/indexes/base.py:3812\u001b[0m, in \u001b[0;36mIndex.get_loc\u001b[0;34m(self, key)\u001b[0m\n\u001b[1;32m   3807\u001b[0m     \u001b[38;5;28;01mif\u001b[39;00m \u001b[38;5;28misinstance\u001b[39m(casted_key, \u001b[38;5;28mslice\u001b[39m) \u001b[38;5;129;01mor\u001b[39;00m (\n\u001b[1;32m   3808\u001b[0m         \u001b[38;5;28misinstance\u001b[39m(casted_key, abc\u001b[38;5;241m.\u001b[39mIterable)\n\u001b[1;32m   3809\u001b[0m         \u001b[38;5;129;01mand\u001b[39;00m \u001b[38;5;28many\u001b[39m(\u001b[38;5;28misinstance\u001b[39m(x, \u001b[38;5;28mslice\u001b[39m) \u001b[38;5;28;01mfor\u001b[39;00m x \u001b[38;5;129;01min\u001b[39;00m casted_key)\n\u001b[1;32m   3810\u001b[0m     ):\n\u001b[1;32m   3811\u001b[0m         \u001b[38;5;28;01mraise\u001b[39;00m InvalidIndexError(key)\n\u001b[0;32m-> 3812\u001b[0m     \u001b[38;5;28;01mraise\u001b[39;00m \u001b[38;5;167;01mKeyError\u001b[39;00m(key) \u001b[38;5;28;01mfrom\u001b[39;00m \u001b[38;5;21;01merr\u001b[39;00m\n\u001b[1;32m   3813\u001b[0m \u001b[38;5;28;01mexcept\u001b[39;00m \u001b[38;5;167;01mTypeError\u001b[39;00m:\n\u001b[1;32m   3814\u001b[0m     \u001b[38;5;66;03m# If we have a listlike key, _check_indexing_error will raise\u001b[39;00m\n\u001b[1;32m   3815\u001b[0m     \u001b[38;5;66;03m#  InvalidIndexError. Otherwise we fall through and re-raise\u001b[39;00m\n\u001b[1;32m   3816\u001b[0m     \u001b[38;5;66;03m#  the TypeError.\u001b[39;00m\n\u001b[1;32m   3817\u001b[0m     \u001b[38;5;28mself\u001b[39m\u001b[38;5;241m.\u001b[39m_check_indexing_error(key)\n",
      "\u001b[0;31mKeyError\u001b[0m: 'Earnings Date'"
     ]
    }
   ],
   "source": [
    "import yfinance as yf\n",
    "import pandas as pd\n",
    "\n",
    "# Fetching earnings dates for a specific company (e.g., Apple)\n",
    "ticker = yf.Ticker(\"AAPL\")\n",
    "earnings = ticker.earnings_dates\n",
    "print(earnings)\n"
   ]
  },
  {
   "cell_type": "code",
   "execution_count": 10,
   "metadata": {},
   "outputs": [
    {
     "data": {
      "text/plain": [
       "['__class__',\n",
       " '__delattr__',\n",
       " '__dict__',\n",
       " '__dir__',\n",
       " '__doc__',\n",
       " '__eq__',\n",
       " '__format__',\n",
       " '__ge__',\n",
       " '__getattribute__',\n",
       " '__getstate__',\n",
       " '__gt__',\n",
       " '__hash__',\n",
       " '__init__',\n",
       " '__init_subclass__',\n",
       " '__le__',\n",
       " '__lt__',\n",
       " '__module__',\n",
       " '__ne__',\n",
       " '__new__',\n",
       " '__reduce__',\n",
       " '__reduce_ex__',\n",
       " '__repr__',\n",
       " '__setattr__',\n",
       " '__sizeof__',\n",
       " '__str__',\n",
       " '__subclasshook__',\n",
       " '__weakref__',\n",
       " '_analysis',\n",
       " '_data',\n",
       " '_download_options',\n",
       " '_earnings',\n",
       " '_earnings_dates',\n",
       " '_expirations',\n",
       " '_fast_info',\n",
       " '_fetch_ticker_tz',\n",
       " '_financials',\n",
       " '_fundamentals',\n",
       " '_get_ticker_tz',\n",
       " '_holders',\n",
       " '_isin',\n",
       " '_lazy_load_price_history',\n",
       " '_news',\n",
       " '_options2df',\n",
       " '_price_history',\n",
       " '_quote',\n",
       " '_shares',\n",
       " '_tz',\n",
       " '_underlying',\n",
       " 'actions',\n",
       " 'analyst_price_targets',\n",
       " 'balance_sheet',\n",
       " 'balancesheet',\n",
       " 'basic_info',\n",
       " 'calendar',\n",
       " 'capital_gains',\n",
       " 'cash_flow',\n",
       " 'cashflow',\n",
       " 'dividends',\n",
       " 'earnings',\n",
       " 'earnings_dates',\n",
       " 'earnings_estimate',\n",
       " 'earnings_history',\n",
       " 'eps_revisions',\n",
       " 'eps_trend',\n",
       " 'fast_info',\n",
       " 'financials',\n",
       " 'get_actions',\n",
       " 'get_analyst_price_targets',\n",
       " 'get_balance_sheet',\n",
       " 'get_balancesheet',\n",
       " 'get_calendar',\n",
       " 'get_capital_gains',\n",
       " 'get_cash_flow',\n",
       " 'get_cashflow',\n",
       " 'get_dividends',\n",
       " 'get_earnings',\n",
       " 'get_earnings_dates',\n",
       " 'get_earnings_estimate',\n",
       " 'get_earnings_history',\n",
       " 'get_eps_revisions',\n",
       " 'get_eps_trend',\n",
       " 'get_fast_info',\n",
       " 'get_financials',\n",
       " 'get_growth_estimates',\n",
       " 'get_history_metadata',\n",
       " 'get_income_stmt',\n",
       " 'get_incomestmt',\n",
       " 'get_info',\n",
       " 'get_insider_purchases',\n",
       " 'get_insider_roster_holders',\n",
       " 'get_insider_transactions',\n",
       " 'get_institutional_holders',\n",
       " 'get_isin',\n",
       " 'get_major_holders',\n",
       " 'get_mutualfund_holders',\n",
       " 'get_news',\n",
       " 'get_recommendations',\n",
       " 'get_recommendations_summary',\n",
       " 'get_revenue_estimate',\n",
       " 'get_sec_filings',\n",
       " 'get_shares',\n",
       " 'get_shares_full',\n",
       " 'get_splits',\n",
       " 'get_sustainability',\n",
       " 'get_upgrades_downgrades',\n",
       " 'growth_estimates',\n",
       " 'history',\n",
       " 'history_metadata',\n",
       " 'income_stmt',\n",
       " 'incomestmt',\n",
       " 'info',\n",
       " 'insider_purchases',\n",
       " 'insider_roster_holders',\n",
       " 'insider_transactions',\n",
       " 'institutional_holders',\n",
       " 'isin',\n",
       " 'major_holders',\n",
       " 'mutualfund_holders',\n",
       " 'news',\n",
       " 'option_chain',\n",
       " 'options',\n",
       " 'proxy',\n",
       " 'quarterly_balance_sheet',\n",
       " 'quarterly_balancesheet',\n",
       " 'quarterly_cash_flow',\n",
       " 'quarterly_cashflow',\n",
       " 'quarterly_earnings',\n",
       " 'quarterly_financials',\n",
       " 'quarterly_income_stmt',\n",
       " 'quarterly_incomestmt',\n",
       " 'recommendations',\n",
       " 'recommendations_summary',\n",
       " 'revenue_estimate',\n",
       " 'sec_filings',\n",
       " 'session',\n",
       " 'shares',\n",
       " 'splits',\n",
       " 'sustainability',\n",
       " 'ticker',\n",
       " 'upgrades_downgrades']"
      ]
     },
     "execution_count": 10,
     "metadata": {},
     "output_type": "execute_result"
    }
   ],
   "source": [
    "dir(ticker)"
   ]
  },
  {
   "cell_type": "code",
   "execution_count": 31,
   "metadata": {},
   "outputs": [
    {
     "data": {
      "text/html": [
       "<div>\n",
       "<style scoped>\n",
       "    .dataframe tbody tr th:only-of-type {\n",
       "        vertical-align: middle;\n",
       "    }\n",
       "\n",
       "    .dataframe tbody tr th {\n",
       "        vertical-align: top;\n",
       "    }\n",
       "\n",
       "    .dataframe thead th {\n",
       "        text-align: right;\n",
       "    }\n",
       "</style>\n",
       "<table border=\"1\" class=\"dataframe\">\n",
       "  <thead>\n",
       "    <tr style=\"text-align: right;\">\n",
       "      <th></th>\n",
       "      <th>current</th>\n",
       "      <th>7daysAgo</th>\n",
       "      <th>30daysAgo</th>\n",
       "      <th>60daysAgo</th>\n",
       "      <th>90daysAgo</th>\n",
       "    </tr>\n",
       "  </thead>\n",
       "  <tbody>\n",
       "    <tr>\n",
       "      <th>0q</th>\n",
       "      <td>2.35055</td>\n",
       "      <td>2.35055</td>\n",
       "      <td>2.38203</td>\n",
       "      <td>2.39073</td>\n",
       "      <td>2.37815</td>\n",
       "    </tr>\n",
       "    <tr>\n",
       "      <th>+1q</th>\n",
       "      <td>1.68168</td>\n",
       "      <td>1.68284</td>\n",
       "      <td>1.70613</td>\n",
       "      <td>1.70459</td>\n",
       "      <td>1.70044</td>\n",
       "    </tr>\n",
       "    <tr>\n",
       "      <th>0y</th>\n",
       "      <td>7.38831</td>\n",
       "      <td>7.38908</td>\n",
       "      <td>7.39926</td>\n",
       "      <td>7.40310</td>\n",
       "      <td>7.41591</td>\n",
       "    </tr>\n",
       "    <tr>\n",
       "      <th>+1y</th>\n",
       "      <td>8.26639</td>\n",
       "      <td>8.26778</td>\n",
       "      <td>8.32926</td>\n",
       "      <td>8.31663</td>\n",
       "      <td>8.37780</td>\n",
       "    </tr>\n",
       "  </tbody>\n",
       "</table>\n",
       "</div>"
      ],
      "text/plain": [
       "     current  7daysAgo  30daysAgo  60daysAgo  90daysAgo\n",
       "0q   2.35055   2.35055    2.38203    2.39073    2.37815\n",
       "+1q  1.68168   1.68284    1.70613    1.70459    1.70044\n",
       "0y   7.38831   7.38908    7.39926    7.40310    7.41591\n",
       "+1y  8.26639   8.26778    8.32926    8.31663    8.37780"
      ]
     },
     "execution_count": 31,
     "metadata": {},
     "output_type": "execute_result"
    }
   ],
   "source": [
    "ticker.eps_trend"
   ]
  },
  {
   "cell_type": "code",
   "execution_count": null,
   "metadata": {},
   "outputs": [
    {
     "data": {
      "text/plain": [
       "{'Dividend Date': datetime.date(2024, 11, 13),\n",
       " 'Ex-Dividend Date': datetime.date(2024, 11, 7),\n",
       " 'Earnings Date': [datetime.date(2025, 1, 30), datetime.date(2025, 2, 3)],\n",
       " 'Earnings High': 2.5,\n",
       " 'Earnings Low': 2.19,\n",
       " 'Earnings Average': 2.35522,\n",
       " 'Revenue High': 129887000000,\n",
       " 'Revenue Low': 119563000000,\n",
       " 'Revenue Average': 124395630000}"
      ]
     },
     "execution_count": 22,
     "metadata": {},
     "output_type": "execute_result"
    }
   ],
   "source": [
    "ticker.calendar#['Earnings Date'] # can get ex-dividend and dividend dates"
   ]
  },
  {
   "cell_type": "code",
   "execution_count": 26,
   "metadata": {},
   "outputs": [
    {
     "data": {
      "text/plain": [
       "Date\n",
       "1987-05-11 00:00:00-04:00    0.000536\n",
       "1987-08-10 00:00:00-04:00    0.000536\n",
       "1987-11-17 00:00:00-05:00    0.000714\n",
       "1988-02-12 00:00:00-05:00    0.000714\n",
       "1988-05-16 00:00:00-04:00    0.000714\n",
       "                               ...   \n",
       "2023-11-10 00:00:00-05:00    0.240000\n",
       "2024-02-09 00:00:00-05:00    0.240000\n",
       "2024-05-10 00:00:00-04:00    0.250000\n",
       "2024-08-12 00:00:00-04:00    0.250000\n",
       "2024-11-08 00:00:00-05:00    0.250000\n",
       "Name: Dividends, Length: 85, dtype: float64"
      ]
     },
     "execution_count": 26,
     "metadata": {},
     "output_type": "execute_result"
    }
   ],
   "source": [
    "ticker.dividends"
   ]
  },
  {
   "cell_type": "code",
   "execution_count": null,
   "metadata": {},
   "outputs": [],
   "source": []
  }
 ],
 "metadata": {
  "kernelspec": {
   "display_name": "base",
   "language": "python",
   "name": "python3"
  },
  "language_info": {
   "codemirror_mode": {
    "name": "ipython",
    "version": 3
   },
   "file_extension": ".py",
   "mimetype": "text/x-python",
   "name": "python",
   "nbconvert_exporter": "python",
   "pygments_lexer": "ipython3",
   "version": "3.12.4"
  }
 },
 "nbformat": 4,
 "nbformat_minor": 2
}
