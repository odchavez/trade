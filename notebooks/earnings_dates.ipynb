{
 "cells": [
  {
   "cell_type": "code",
   "execution_count": 4,
   "metadata": {},
   "outputs": [
    {
     "name": "stdout",
     "output_type": "stream",
     "text": [
      "                           EPS Estimate  Reported EPS  Surprise(%)\n",
      "Earnings Date                                                     \n",
      "2025-06-24 16:00:00-04:00           NaN           NaN          NaN\n",
      "2025-03-18 06:00:00-04:00           NaN           NaN          NaN\n",
      "2024-12-18 16:00:00-05:00           NaN           NaN          NaN\n",
      "2024-09-25 16:00:00-04:00          1.13           NaN          NaN\n",
      "2024-06-26 16:00:00-04:00          0.51          0.62       0.2193\n",
      "2024-03-20 16:00:00-04:00         -0.25          0.42       2.7004\n",
      "2023-12-20 16:00:00-05:00         -0.97         -0.95       0.0236\n",
      "2023-09-27 16:00:00-04:00         -1.18         -1.07       0.0931\n",
      "2023-06-28 16:00:00-04:00         -1.58         -1.43       0.0974\n",
      "2023-03-28 16:00:00-04:00         -0.86         -1.91      -1.2184\n",
      "2022-12-21 16:00:00-05:00         -0.01         -0.04      -1.9455\n",
      "2022-09-29 16:00:00-04:00          1.30          1.45       0.1167\n"
     ]
    }
   ],
   "source": [
    "import yfinance as yf\n",
    "import pandas as pd\n",
    "\n",
    "# Fetching earnings dates for a specific company (e.g., Apple)\n",
    "ticker = yf.Ticker(\"MU\")\n",
    "earnings = ticker.earnings_dates\n",
    "print(earnings)\n"
   ]
  },
  {
   "cell_type": "code",
   "execution_count": null,
   "metadata": {},
   "outputs": [],
   "source": []
  }
 ],
 "metadata": {
  "kernelspec": {
   "display_name": "base",
   "language": "python",
   "name": "python3"
  },
  "language_info": {
   "codemirror_mode": {
    "name": "ipython",
    "version": 3
   },
   "file_extension": ".py",
   "mimetype": "text/x-python",
   "name": "python",
   "nbconvert_exporter": "python",
   "pygments_lexer": "ipython3",
   "version": "3.12.4"
  }
 },
 "nbformat": 4,
 "nbformat_minor": 2
}
